{
 "cells": [
  {
   "cell_type": "code",
   "execution_count": 0,
   "metadata": {
    "colab": {},
    "colab_type": "code",
    "id": "yHj0BWGDc2Oh"
   },
   "outputs": [],
   "source": [
    "import numpy as np\n",
    "import cv2\n",
    "import matplotlib.pyplot as plt\n",
    "%matplotlib inline\n",
    "from sklearn.cluster import KMeans\n",
    "from sklearn import svm\n",
    "from sklearn.svm import SVC\n",
    "import sklearn.preprocessing as prep\n",
    "from sklearn.preprocessing import StandardScaler\n",
    "from sklearn.decomposition import PCA\n",
    "from sklearn.metrics import classification_report, confusion_matrix"
   ]
  },
  {
   "cell_type": "code",
   "execution_count": 4,
   "metadata": {
    "colab": {
     "base_uri": "https://localhost:8080/",
     "height": 506
    },
    "colab_type": "code",
    "id": "S6CVsUvdLnD-",
    "outputId": "eee427fa-8593-4bb9-9ef9-0ff8eae6bffa"
   },
   "outputs": [
    {
     "name": "stdout",
     "output_type": "stream",
     "text": [
      "\u001b[33mWARNING: Skipping opencv-python as it is not installed.\u001b[0m\n",
      "Collecting opencv-contrib-python==3.4.2.17\n",
      "  Using cached https://files.pythonhosted.org/packages/61/29/fc60b2de1713aa92946992544329f20ccb5e4ba26290f403e04b7da44105/opencv_contrib_python-3.4.2.17-cp36-cp36m-manylinux1_x86_64.whl\n",
      "Collecting numpy>=1.11.3\n",
      "  Using cached https://files.pythonhosted.org/packages/07/08/a549ba8b061005bb629b76adc000f3caaaf881028b963c2e18f811c6edc1/numpy-1.18.2-cp36-cp36m-manylinux1_x86_64.whl\n",
      "\u001b[31mERROR: tensor2tensor 1.14.1 requires opencv-python, which is not installed.\u001b[0m\n",
      "\u001b[31mERROR: stable-baselines 2.2.1 requires opencv-python, which is not installed.\u001b[0m\n",
      "\u001b[31mERROR: imgaug 0.2.9 requires opencv-python, which is not installed.\u001b[0m\n",
      "\u001b[31mERROR: dopamine-rl 1.0.5 requires opencv-python>=3.4.1.15, which is not installed.\u001b[0m\n",
      "\u001b[31mERROR: albumentations 0.1.12 requires opencv-python, which is not installed.\u001b[0m\n",
      "\u001b[31mERROR: tensorflow 1.15.2 has requirement gast==0.2.2, but you'll have gast 0.3.3 which is incompatible.\u001b[0m\n",
      "\u001b[31mERROR: datascience 0.10.6 has requirement folium==0.2.1, but you'll have folium 0.8.3 which is incompatible.\u001b[0m\n",
      "\u001b[31mERROR: albumentations 0.1.12 has requirement imgaug<0.2.7,>=0.2.5, but you'll have imgaug 0.2.9 which is incompatible.\u001b[0m\n",
      "Installing collected packages: numpy, opencv-contrib-python\n",
      "  Found existing installation: numpy 1.18.2\n",
      "    Uninstalling numpy-1.18.2:\n",
      "      Successfully uninstalled numpy-1.18.2\n",
      "  Found existing installation: opencv-contrib-python 3.4.2.17\n",
      "    Uninstalling opencv-contrib-python-3.4.2.17:\n",
      "      Successfully uninstalled opencv-contrib-python-3.4.2.17\n",
      "Successfully installed numpy-1.18.2 opencv-contrib-python-3.4.2.17\n"
     ]
    },
    {
     "data": {
      "application/vnd.colab-display-data+json": {
       "pip_warning": {
        "packages": [
         "cv2",
         "numpy"
        ]
       }
      }
     },
     "metadata": {
      "tags": []
     },
     "output_type": "display_data"
    }
   ],
   "source": [
    "!pip uninstall opencv-python -y\n",
    "# downgrade OpenCV a bit since some none-free features are not avilable\n",
    "!pip install opencv-contrib-python==3.4.2.17 --force-reinstall"
   ]
  },
  {
   "cell_type": "code",
   "execution_count": 2,
   "metadata": {
    "colab": {
     "base_uri": "https://localhost:8080/",
     "height": 215
    },
    "colab_type": "code",
    "id": "9nmshuKfYBLZ",
    "outputId": "19593737-5a6a-429d-eb1a-8a92986774bc"
   },
   "outputs": [
    {
     "name": "stdout",
     "output_type": "stream",
     "text": [
      "--2020-03-27 06:45:17--  https://www.cs.toronto.edu/~kriz/cifar-10-python.tar.gz\n",
      "Resolving www.cs.toronto.edu (www.cs.toronto.edu)... 128.100.3.30\n",
      "Connecting to www.cs.toronto.edu (www.cs.toronto.edu)|128.100.3.30|:443... connected.\n",
      "HTTP request sent, awaiting response... 200 OK\n",
      "Length: 170498071 (163M) [application/x-gzip]\n",
      "Saving to: ‘cifar-10-python.tar.gz’\n",
      "\n",
      "cifar-10-python.tar 100%[===================>] 162.60M  50.1MB/s    in 3.6s    \n",
      "\n",
      "2020-03-27 06:45:21 (45.0 MB/s) - ‘cifar-10-python.tar.gz’ saved [170498071/170498071]\n",
      "\n"
     ]
    }
   ],
   "source": [
    "# Downloading dataset\n",
    "!wget https://www.cs.toronto.edu/~kriz/cifar-10-python.tar.gz"
   ]
  },
  {
   "cell_type": "code",
   "execution_count": 6,
   "metadata": {
    "colab": {
     "base_uri": "https://localhost:8080/",
     "height": 55
    },
    "colab_type": "code",
    "id": "LDHCc_I-JLIO",
    "outputId": "a52107e5-3092-41f6-ae3a-d2d8e6842e76"
   },
   "outputs": [
    {
     "name": "stdout",
     "output_type": "stream",
     "text": [
      "Drive already mounted at /content/drive; to attempt to forcibly remount, call drive.mount(\"/content/drive\", force_remount=True).\n"
     ]
    }
   ],
   "source": [
    "from google.colab import drive\n",
    "drive.mount('/content/drive')"
   ]
  },
  {
   "cell_type": "code",
   "execution_count": 0,
   "metadata": {
    "colab": {},
    "colab_type": "code",
    "id": "wO0w9-rSZFiI"
   },
   "outputs": [],
   "source": [
    "!tar -xf cifar-10-python.tar.gz"
   ]
  },
  {
   "cell_type": "code",
   "execution_count": 0,
   "metadata": {
    "colab": {},
    "colab_type": "code",
    "id": "SsFZYD_Xc2Ov"
   },
   "outputs": [],
   "source": [
    "# Defining method to unload images\n",
    "\n",
    "def unpickle_batch(file):\n",
    "    import pickle\n",
    "    with open(file, 'rb') as fo:\n",
    "        bdict = pickle.load(fo, encoding='latin-1')\n",
    "        nImgs = len(bdict['data'])\n",
    "        imgs = bdict['data'].reshape(nImgs,3,32,32).transpose(0, 2, 3, 1)\n",
    "        labels = bdict['labels']\n",
    "    return (imgs,labels)"
   ]
  },
  {
   "cell_type": "code",
   "execution_count": 0,
   "metadata": {
    "colab": {},
    "colab_type": "code",
    "id": "sQ_SSSaDc2O3"
   },
   "outputs": [],
   "source": [
    "# loading all batches : data_batches_1-4 and test_batch used for training and data_batch_5 used for testing \n",
    "# as test_batch was used for validation\n",
    "\n",
    "images = []\n",
    "labels = []\n",
    "no_of_batches = 4\n",
    "path = 'cifar-10-batches-py/data_batch_'\n",
    "batch_id = 1\n",
    "for batch_id in range(batch_id,no_of_batches+1):\n",
    "    batch_images,batch_labels = unpickle_batch(path+str(batch_id))\n",
    "    for each in batch_images:\n",
    "        images.append(each)\n",
    "    for each in batch_labels:\n",
    "        labels.append(each)"
   ]
  },
  {
   "cell_type": "code",
   "execution_count": 0,
   "metadata": {
    "colab": {},
    "colab_type": "code",
    "id": "J5fgZbD0vvNL"
   },
   "outputs": [],
   "source": [
    "# extending training batch and labels with test_batch and test_labels respectively\n",
    "\n",
    "images.extend(test_images)\n",
    "labels.extend(test_labels)"
   ]
  },
  {
   "cell_type": "code",
   "execution_count": 11,
   "metadata": {
    "colab": {
     "base_uri": "https://localhost:8080/",
     "height": 35
    },
    "colab_type": "code",
    "id": "bP8bpUZxc2O_",
    "outputId": "397f638d-5713-4ea0-a6e1-d00de4997aeb"
   },
   "outputs": [
    {
     "data": {
      "text/plain": [
       "50000"
      ]
     },
     "execution_count": 11,
     "metadata": {
      "tags": []
     },
     "output_type": "execute_result"
    }
   ],
   "source": [
    "#len(images)\n",
    "len(labels)"
   ]
  },
  {
   "cell_type": "code",
   "execution_count": 10,
   "metadata": {
    "colab": {
     "base_uri": "https://localhost:8080/",
     "height": 35
    },
    "colab_type": "code",
    "id": "xPoxFVf0c2PR",
    "outputId": "8c546e2d-fdf2-434e-88a0-e13f837fb186"
   },
   "outputs": [
    {
     "data": {
      "text/plain": [
       "50000"
      ]
     },
     "execution_count": 10,
     "metadata": {
      "tags": []
     },
     "output_type": "execute_result"
    }
   ],
   "source": [
    "len(images)"
   ]
  },
  {
   "cell_type": "code",
   "execution_count": 9,
   "metadata": {
    "colab": {
     "base_uri": "https://localhost:8080/",
     "height": 35
    },
    "colab_type": "code",
    "id": "LXrGWsXTc2PJ",
    "outputId": "87f14861-e6d1-42a7-935a-430b171be027"
   },
   "outputs": [
    {
     "data": {
      "text/plain": [
       "(32, 32, 3)"
      ]
     },
     "execution_count": 9,
     "metadata": {
      "tags": []
     },
     "output_type": "execute_result"
    }
   ],
   "source": [
    "images[49000].shape"
   ]
  },
  {
   "cell_type": "code",
   "execution_count": 0,
   "metadata": {
    "colab": {},
    "colab_type": "code",
    "id": "IpDcbbUac2Pd"
   },
   "outputs": [],
   "source": [
    "def unpickle_metadata(file):\n",
    "    import pickle\n",
    "    with open(file, 'rb') as fo:\n",
    "        dict = pickle.load(fo, encoding='latin-1')\n",
    "    return dict"
   ]
  },
  {
   "cell_type": "code",
   "execution_count": 0,
   "metadata": {
    "colab": {},
    "colab_type": "code",
    "id": "7TWdrxMNc2Pn"
   },
   "outputs": [],
   "source": [
    "label_names_dict = unpickle_metadata('cifar-10-batches-py/batches.meta')"
   ]
  },
  {
   "cell_type": "code",
   "execution_count": 0,
   "metadata": {
    "colab": {},
    "colab_type": "code",
    "id": "PAYMJo6Rc2Pu"
   },
   "outputs": [],
   "source": [
    "label_names=label_names_dict['label_names']"
   ]
  },
  {
   "cell_type": "code",
   "execution_count": 15,
   "metadata": {
    "colab": {
     "base_uri": "https://localhost:8080/",
     "height": 197
    },
    "colab_type": "code",
    "id": "FP615XYIc2P1",
    "outputId": "1073c7f2-96ca-4673-e614-ff5f7835da9e"
   },
   "outputs": [
    {
     "data": {
      "text/plain": [
       "['airplane',\n",
       " 'automobile',\n",
       " 'bird',\n",
       " 'cat',\n",
       " 'deer',\n",
       " 'dog',\n",
       " 'frog',\n",
       " 'horse',\n",
       " 'ship',\n",
       " 'truck']"
      ]
     },
     "execution_count": 15,
     "metadata": {
      "tags": []
     },
     "output_type": "execute_result"
    }
   ],
   "source": [
    "label_names"
   ]
  },
  {
   "cell_type": "code",
   "execution_count": 16,
   "metadata": {
    "colab": {
     "base_uri": "https://localhost:8080/",
     "height": 284
    },
    "colab_type": "code",
    "id": "_RBbs_hBc2P_",
    "outputId": "7034cdf8-127a-452c-fa83-108bb353d5d7"
   },
   "outputs": [
    {
     "data": {
      "text/plain": [
       "<matplotlib.image.AxesImage at 0x7f04a1f2bfd0>"
      ]
     },
     "execution_count": 16,
     "metadata": {
      "tags": []
     },
     "output_type": "execute_result"
    },
    {
     "data": {
      "image/png": "[encoded data removed]",
      "text/plain": [
       "<Figure size 432x288 with 1 Axes>"
      ]
     },
     "metadata": {
      "tags": []
     },
     "output_type": "display_data"
    }
   ],
   "source": [
    "plt.imshow(images[4],cmap = 'gray')"
   ]
  },
  {
   "cell_type": "code",
   "execution_count": 17,
   "metadata": {
    "colab": {
     "base_uri": "https://localhost:8080/",
     "height": 197
    },
    "colab_type": "code",
    "id": "cLpZAVP2c2QH",
    "outputId": "7e1b4fe2-084f-4d72-cc10-5690172baffd"
   },
   "outputs": [
    {
     "data": {
      "text/plain": [
       "['airplane',\n",
       " 'automobile',\n",
       " 'bird',\n",
       " 'cat',\n",
       " 'deer',\n",
       " 'dog',\n",
       " 'frog',\n",
       " 'horse',\n",
       " 'ship',\n",
       " 'truck']"
      ]
     },
     "execution_count": 17,
     "metadata": {
      "tags": []
     },
     "output_type": "execute_result"
    }
   ],
   "source": [
    "label_names"
   ]
  },
  {
   "cell_type": "code",
   "execution_count": 0,
   "metadata": {
    "colab": {},
    "colab_type": "code",
    "id": "L-PXwp4Tc2QP"
   },
   "outputs": [],
   "source": [
    "images_per_batch = label_names_dict['num_cases_per_batch']"
   ]
  },
  {
   "cell_type": "code",
   "execution_count": 19,
   "metadata": {
    "colab": {
     "base_uri": "https://localhost:8080/",
     "height": 35
    },
    "colab_type": "code",
    "id": "IE7LJFOoc2QX",
    "outputId": "9604a06f-7184-49af-b8ff-a409b7bd0064"
   },
   "outputs": [
    {
     "data": {
      "text/plain": [
       "10000"
      ]
     },
     "execution_count": 19,
     "metadata": {
      "tags": []
     },
     "output_type": "execute_result"
    }
   ],
   "source": [
    "images_per_batch"
   ]
  },
  {
   "cell_type": "code",
   "execution_count": 20,
   "metadata": {
    "colab": {
     "base_uri": "https://localhost:8080/",
     "height": 233
    },
    "colab_type": "code",
    "id": "PAJBBDjOc2Qe",
    "outputId": "1e5a208d-c406-4cb4-971d-16a9c57074c3"
   },
   "outputs": [
    {
     "data": {
      "text/plain": [
       "{'label_names': ['airplane',\n",
       "  'automobile',\n",
       "  'bird',\n",
       "  'cat',\n",
       "  'deer',\n",
       "  'dog',\n",
       "  'frog',\n",
       "  'horse',\n",
       "  'ship',\n",
       "  'truck'],\n",
       " 'num_cases_per_batch': 10000,\n",
       " 'num_vis': 3072}"
      ]
     },
     "execution_count": 20,
     "metadata": {
      "tags": []
     },
     "output_type": "execute_result"
    }
   ],
   "source": [
    "label_names_dict"
   ]
  },
  {
   "cell_type": "code",
   "execution_count": 0,
   "metadata": {
    "colab": {},
    "colab_type": "code",
    "id": "IFoCA_ZOc2Qn"
   },
   "outputs": [],
   "source": [
    "def gray(img):\n",
    "    grayImage = cv2.cvtColor(img,cv2.COLOR_BGR2GRAY)\n",
    "    return grayImage"
   ]
  },
  {
   "cell_type": "code",
   "execution_count": 0,
   "metadata": {
    "colab": {},
    "colab_type": "code",
    "id": "FQ7Sr9-Nc2Qv"
   },
   "outputs": [],
   "source": [
    "# defining method to get descriptors using SIFT\n",
    "sift = cv2.xfeatures2d.SIFT_create()\n",
    "def getFeatures(img):\n",
    "    kp,desc = sift.detectAndCompute(img,mask=None)\n",
    "    return kp,desc"
   ]
  },
  {
   "cell_type": "code",
   "execution_count": 0,
   "metadata": {
    "colab": {},
    "colab_type": "code",
    "id": "wXGR0y58c2RL"
   },
   "outputs": [],
   "source": [
    "# Creating descriptors for each image\n",
    "\n",
    "kp_list = []\n",
    "desc_list = []\n",
    "for each in images:\n",
    "    grayimage = gray(each)\n",
    "    kp,desc = getFeatures(each)\n",
    "    if desc is None:\n",
    "        zero = np.zeros([1,128],dtype='float32')\n",
    "        desc_list.append(zero)\n",
    "        continue\n",
    "    kp_list.append(kp)\n",
    "    desc_list.append(desc)"
   ]
  },
  {
   "cell_type": "code",
   "execution_count": 26,
   "metadata": {
    "colab": {
     "base_uri": "https://localhost:8080/",
     "height": 35
    },
    "colab_type": "code",
    "id": "lb9pruZec2RT",
    "outputId": "183329da-eadb-49bb-dbef-56fe25da4dd6"
   },
   "outputs": [
    {
     "data": {
      "text/plain": [
       "50000"
      ]
     },
     "execution_count": 26,
     "metadata": {
      "tags": []
     },
     "output_type": "execute_result"
    }
   ],
   "source": [
    "len(kp_list)\n",
    "len(desc_list)\n",
    "#desc_list[996].shape"
   ]
  },
  {
   "cell_type": "code",
   "execution_count": 27,
   "metadata": {
    "colab": {
     "base_uri": "https://localhost:8080/",
     "height": 35
    },
    "colab_type": "code",
    "id": "7LDfPteTNUDa",
    "outputId": "4473ee48-1299-4cbd-bbe1-ac05abdd48d7"
   },
   "outputs": [
    {
     "data": {
      "text/plain": [
       "(50000,)"
      ]
     },
     "execution_count": 27,
     "metadata": {
      "tags": []
     },
     "output_type": "execute_result"
    }
   ],
   "source": [
    "des_ary = np.array(desc_list)\n",
    "des_ary.shape"
   ]
  },
  {
   "cell_type": "code",
   "execution_count": 0,
   "metadata": {
    "colab": {},
    "colab_type": "code",
    "id": "vRqW8NRrc2Ra"
   },
   "outputs": [],
   "source": [
    "# Restructuring descriptor list\n",
    "\n",
    "def restructure(des_list):\n",
    "    featlist = np.array(des_list[0])\n",
    "    for remaining in des_list[1:]:\n",
    "        featlist = np.vstack((featlist,remaining))\n",
    "    return featlist"
   ]
  },
  {
   "cell_type": "code",
   "execution_count": 0,
   "metadata": {
    "colab": {},
    "colab_type": "code",
    "id": "vm_Luitoc2Rh"
   },
   "outputs": [],
   "source": [
    "X = restructure(desc_list)"
   ]
  },
  {
   "cell_type": "code",
   "execution_count": 30,
   "metadata": {
    "colab": {
     "base_uri": "https://localhost:8080/",
     "height": 35
    },
    "colab_type": "code",
    "id": "w7qZyLZlc2Rn",
    "outputId": "a391e53b-b030-4a28-fdd0-5a21458da673"
   },
   "outputs": [
    {
     "data": {
      "text/plain": [
       "(651089, 128)"
      ]
     },
     "execution_count": 30,
     "metadata": {
      "tags": []
     },
     "output_type": "execute_result"
    }
   ],
   "source": [
    "X.shape"
   ]
  },
  {
   "cell_type": "code",
   "execution_count": 0,
   "metadata": {
    "colab": {},
    "colab_type": "code",
    "id": "LmHP8jY2c2SE"
   },
   "outputs": [],
   "source": [
    "# Using KMeans to cluster features :16 , 128, 256\n",
    "\n",
    "nclusters = 64\n",
    "kmeans = KMeans(nclusters)\n",
    "kret_labels = kmeans.fit_predict(X)"
   ]
  },
  {
   "cell_type": "code",
   "execution_count": 35,
   "metadata": {
    "colab": {
     "base_uri": "https://localhost:8080/",
     "height": 35
    },
    "colab_type": "code",
    "id": "Wv_BM6Y7c2SM",
    "outputId": "ff12f4b2-cf16-40d1-a838-d3c6b7a4a202"
   },
   "outputs": [
    {
     "data": {
      "text/plain": [
       "array([24, 21,  4, ..., 51, 47,  7], dtype=int32)"
      ]
     },
     "execution_count": 35,
     "metadata": {
      "tags": []
     },
     "output_type": "execute_result"
    }
   ],
   "source": [
    "kret_labels"
   ]
  },
  {
   "cell_type": "code",
   "execution_count": 36,
   "metadata": {
    "colab": {
     "base_uri": "https://localhost:8080/",
     "height": 71
    },
    "colab_type": "code",
    "id": "fmTV0vcWc2SU",
    "outputId": "b2ff401f-e549-4b22-f319-b2ebab392edc"
   },
   "outputs": [
    {
     "data": {
      "text/plain": [
       "KMeans(algorithm='auto', copy_x=True, init='k-means++', max_iter=300,\n",
       "       n_clusters=64, n_init=10, n_jobs=None, precompute_distances='auto',\n",
       "       random_state=None, tol=0.0001, verbose=0)"
      ]
     },
     "execution_count": 36,
     "metadata": {
      "tags": []
     },
     "output_type": "execute_result"
    }
   ],
   "source": [
    "kmeans"
   ]
  },
  {
   "cell_type": "code",
   "execution_count": 0,
   "metadata": {
    "colab": {},
    "colab_type": "code",
    "id": "oQd0I0Wfc2Sb"
   },
   "outputs": [],
   "source": [
    "# Function to generate VLADs\n",
    "def genVLAD(descriptors,vocab):\n",
    "    descDim = 128 # 128 = dimension of descriptor\n",
    "    VLADs = []\n",
    "    \n",
    "    for i in range(descriptors.shape[0]):\n",
    "        VLAD = np.zeros((nclusters,descDim))\n",
    "        pred = vocab.predict(descriptors[i])\n",
    "        dist = descriptors[i] - vocab.cluster_centers_[pred]\n",
    "        for j in range(descriptors[i].shape[0]):\n",
    "            VLAD[pred[j]] += dist[j]\n",
    "#         print(VLAD.shape)\n",
    "#         VLAD = np.reshape(VLAD,(-1,1))\n",
    "#         print(VLAD.shape)\n",
    "        VLAD_normalized = prep.normalize(VLAD,norm = 'l2')\n",
    "        \n",
    "        VLADs.append(VLAD_normalized)\n",
    "    return VLADs\n",
    "    "
   ]
  },
  {
   "cell_type": "code",
   "execution_count": 0,
   "metadata": {
    "colab": {},
    "colab_type": "code",
    "id": "RwJDO8sXc2U-"
   },
   "outputs": [],
   "source": [
    "# Getting VLADs \n",
    "\n",
    "VLADs = genVLAD(des_ary,kmeans)"
   ]
  },
  {
   "cell_type": "code",
   "execution_count": 0,
   "metadata": {
    "colab": {},
    "colab_type": "code",
    "id": "3S0Z8b3ecZsA"
   },
   "outputs": [],
   "source": [
    "# flattening \n",
    "\n",
    "data = []\n",
    "for i in range(len(VLADs)):\n",
    "    flatImgVec = [ele for li_1d in VLADs[i] for ele in li_1d]\n",
    "    data.append(flatImgVec)"
   ]
  },
  {
   "cell_type": "code",
   "execution_count": 44,
   "metadata": {
    "colab": {
     "base_uri": "https://localhost:8080/",
     "height": 35
    },
    "colab_type": "code",
    "id": "aQPjJyOxcZkm",
    "outputId": "88eca51d-74c8-44a4-ac6e-71b6b6703b79"
   },
   "outputs": [
    {
     "data": {
      "text/plain": [
       "50000"
      ]
     },
     "execution_count": 44,
     "metadata": {
      "tags": []
     },
     "output_type": "execute_result"
    }
   ],
   "source": [
    "len(data)"
   ]
  },
  {
   "cell_type": "code",
   "execution_count": 45,
   "metadata": {
    "colab": {
     "base_uri": "https://localhost:8080/",
     "height": 35
    },
    "colab_type": "code",
    "id": "Jm7dcRs_cZeW",
    "outputId": "a526199d-a13d-4f8c-cc1a-94288fdc2a74"
   },
   "outputs": [
    {
     "data": {
      "text/plain": [
       "8192"
      ]
     },
     "execution_count": 45,
     "metadata": {
      "tags": []
     },
     "output_type": "execute_result"
    }
   ],
   "source": [
    "len(flatImgVec)"
   ]
  },
  {
   "cell_type": "code",
   "execution_count": 0,
   "metadata": {
    "colab": {},
    "colab_type": "code",
    "id": "6ZTdT0OdNXvP"
   },
   "outputs": [],
   "source": [
    "del X"
   ]
  },
  {
   "cell_type": "code",
   "execution_count": 0,
   "metadata": {
    "colab": {},
    "colab_type": "code",
    "id": "sSgmaMtlcZR3"
   },
   "outputs": [],
   "source": [
    "# Scaling\n",
    "\n",
    "dataset = np.asarray(data)\n",
    "scale = StandardScaler().fit(dataset)\n",
    "dataset = scale.transform(dataset)"
   ]
  },
  {
   "cell_type": "code",
   "execution_count": 59,
   "metadata": {
    "colab": {
     "base_uri": "https://localhost:8080/",
     "height": 35
    },
    "colab_type": "code",
    "id": "6SyFruONcY-w",
    "outputId": "50c65467-1c6a-40d2-803a-48392c4ad08d"
   },
   "outputs": [
    {
     "data": {
      "text/plain": [
       "(50000, 8192)"
      ]
     },
     "execution_count": 59,
     "metadata": {
      "tags": []
     },
     "output_type": "execute_result"
    }
   ],
   "source": [
    "dataset.shape"
   ]
  },
  {
   "cell_type": "code",
   "execution_count": 0,
   "metadata": {
    "colab": {},
    "colab_type": "code",
    "id": "RHN82PRucltp"
   },
   "outputs": [],
   "source": [
    "# Performing PCA components reduction\n",
    "\n",
    "pca = PCA(n_components=128)\n",
    "dataset = pca.fit_transform(dataset)"
   ]
  },
  {
   "cell_type": "code",
   "execution_count": 61,
   "metadata": {
    "colab": {
     "base_uri": "https://localhost:8080/",
     "height": 35
    },
    "colab_type": "code",
    "id": "ufYzhWJ5clqJ",
    "outputId": "06e61e2c-e1c9-4a42-f2f6-923c61859968"
   },
   "outputs": [
    {
     "data": {
      "text/plain": [
       "(128,)"
      ]
     },
     "execution_count": 61,
     "metadata": {
      "tags": []
     },
     "output_type": "execute_result"
    }
   ],
   "source": [
    "dataset[0].shape"
   ]
  },
  {
   "cell_type": "code",
   "execution_count": 0,
   "metadata": {
    "colab": {
     "base_uri": "https://localhost:8080/",
     "height": 1000
    },
    "colab_type": "code",
    "id": "cLPr9YRvjZFT",
    "outputId": "e213c475-7e89-49b6-c772-45c4e2124ef0"
   },
   "outputs": [
    {
     "name": "stdout",
     "output_type": "stream",
     "text": [
      "Fitting 5 folds for each of 10 candidates, totalling 50 fits\n",
      "[CV] C=4.745401188473625, gamma=0.07969454818643928, kernel=rbf ......\n"
     ]
    },
    {
     "name": "stderr",
     "output_type": "stream",
     "text": [
      "[Parallel(n_jobs=1)]: Using backend SequentialBackend with 1 concurrent workers.\n"
     ]
    },
    {
     "name": "stdout",
     "output_type": "stream",
     "text": [
      "[CV]  C=4.745401188473625, gamma=0.07969454818643928, kernel=rbf, total= 5.0min\n",
      "[CV] C=4.745401188473625, gamma=0.07969454818643928, kernel=rbf ......\n"
     ]
    },
    {
     "name": "stderr",
     "output_type": "stream",
     "text": [
      "[Parallel(n_jobs=1)]: Done   1 out of   1 | elapsed:  5.0min remaining:    0.0s\n"
     ]
    },
    {
     "name": "stdout",
     "output_type": "stream",
     "text": [
      "[CV]  C=4.745401188473625, gamma=0.07969454818643928, kernel=rbf, total= 5.1min\n",
      "[CV] C=4.745401188473625, gamma=0.07969454818643928, kernel=rbf ......\n",
      "[CV]  C=4.745401188473625, gamma=0.07969454818643928, kernel=rbf, total= 5.1min\n",
      "[CV] C=4.745401188473625, gamma=0.07969454818643928, kernel=rbf ......\n",
      "[CV]  C=4.745401188473625, gamma=0.07969454818643928, kernel=rbf, total= 5.2min\n",
      "[CV] C=4.745401188473625, gamma=0.07969454818643928, kernel=rbf ......\n",
      "[CV]  C=4.745401188473625, gamma=0.07969454818643928, kernel=rbf, total= 5.1min\n",
      "[CV] C=8.31993941811405, gamma=0.015751320499779724, kernel=rbf ......\n",
      "[CV]  C=8.31993941811405, gamma=0.015751320499779724, kernel=rbf, total= 5.1min\n",
      "[CV] C=8.31993941811405, gamma=0.015751320499779724, kernel=rbf ......\n",
      "[CV]  C=8.31993941811405, gamma=0.015751320499779724, kernel=rbf, total= 5.3min\n",
      "[CV] C=8.31993941811405, gamma=0.015751320499779724, kernel=rbf ......\n",
      "[CV]  C=8.31993941811405, gamma=0.015751320499779724, kernel=rbf, total= 5.0min\n",
      "[CV] C=8.31993941811405, gamma=0.015751320499779724, kernel=rbf ......\n",
      "[CV]  C=8.31993941811405, gamma=0.015751320499779724, kernel=rbf, total= 5.1min\n",
      "[CV] C=8.31993941811405, gamma=0.015751320499779724, kernel=rbf ......\n",
      "[CV]  C=8.31993941811405, gamma=0.015751320499779724, kernel=rbf, total= 5.4min\n",
      "[CV] C=2.560186404424365, gamma=0.002051110418843397, kernel=rbf .....\n",
      "[CV]  C=2.560186404424365, gamma=0.002051110418843397, kernel=rbf, total= 4.9min\n",
      "[CV] C=2.560186404424365, gamma=0.002051110418843397, kernel=rbf .....\n",
      "[CV]  C=2.560186404424365, gamma=0.002051110418843397, kernel=rbf, total= 5.0min\n",
      "[CV] C=2.560186404424365, gamma=0.002051110418843397, kernel=rbf .....\n",
      "[CV]  C=2.560186404424365, gamma=0.002051110418843397, kernel=rbf, total= 5.0min\n",
      "[CV] C=2.560186404424365, gamma=0.002051110418843397, kernel=rbf .....\n",
      "[CV]  C=2.560186404424365, gamma=0.002051110418843397, kernel=rbf, total= 5.1min\n",
      "[CV] C=2.560186404424365, gamma=0.002051110418843397, kernel=rbf .....\n",
      "[CV]  C=2.560186404424365, gamma=0.002051110418843397, kernel=rbf, total= 5.0min\n",
      "[CV] C=1.5808361216819946, gamma=0.05399484409787431, kernel=rbf .....\n",
      "[CV]  C=1.5808361216819946, gamma=0.05399484409787431, kernel=rbf, total= 6.1min\n",
      "[CV] C=1.5808361216819946, gamma=0.05399484409787431, kernel=rbf .....\n",
      "[CV]  C=1.5808361216819946, gamma=0.05399484409787431, kernel=rbf, total= 5.2min\n",
      "[CV] C=1.5808361216819946, gamma=0.05399484409787431, kernel=rbf .....\n",
      "[CV]  C=1.5808361216819946, gamma=0.05399484409787431, kernel=rbf, total= 5.0min\n",
      "[CV] C=1.5808361216819946, gamma=0.05399484409787431, kernel=rbf .....\n",
      "[CV]  C=1.5808361216819946, gamma=0.05399484409787431, kernel=rbf, total= 5.0min\n",
      "[CV] C=1.5808361216819946, gamma=0.05399484409787431, kernel=rbf .....\n",
      "[CV]  C=1.5808361216819946, gamma=0.05399484409787431, kernel=rbf, total= 5.0min\n",
      "[CV] C=7.011150117432088, gamma=0.026070247583707663, kernel=rbf .....\n",
      "[CV]  C=7.011150117432088, gamma=0.026070247583707663, kernel=rbf, total= 5.1min\n",
      "[CV] C=7.011150117432088, gamma=0.026070247583707663, kernel=rbf .....\n",
      "[CV]  C=7.011150117432088, gamma=0.026070247583707663, kernel=rbf, total= 5.1min\n",
      "[CV] C=7.011150117432088, gamma=0.026070247583707663, kernel=rbf .....\n",
      "[CV]  C=7.011150117432088, gamma=0.026070247583707663, kernel=rbf, total= 5.0min\n",
      "[CV] C=7.011150117432088, gamma=0.026070247583707663, kernel=rbf .....\n",
      "[CV]  C=7.011150117432088, gamma=0.026070247583707663, kernel=rbf, total= 5.0min\n",
      "[CV] C=7.011150117432088, gamma=0.026070247583707663, kernel=rbf .....\n",
      "[CV]  C=7.011150117432088, gamma=0.026070247583707663, kernel=rbf, total= 5.1min\n",
      "[CV] C=1.2058449429580245, gamma=0.0870602087830485, kernel=rbf ......\n",
      "[CV]  C=1.2058449429580245, gamma=0.0870602087830485, kernel=rbf, total= 5.2min\n",
      "[CV] C=1.2058449429580245, gamma=0.0870602087830485, kernel=rbf ......\n",
      "[CV]  C=1.2058449429580245, gamma=0.0870602087830485, kernel=rbf, total= 5.2min\n",
      "[CV] C=1.2058449429580245, gamma=0.0870602087830485, kernel=rbf ......\n",
      "[CV]  C=1.2058449429580245, gamma=0.0870602087830485, kernel=rbf, total= 5.0min\n",
      "[CV] C=1.2058449429580245, gamma=0.0870602087830485, kernel=rbf ......\n",
      "[CV]  C=1.2058449429580245, gamma=0.0870602087830485, kernel=rbf, total= 5.0min\n",
      "[CV] C=1.2058449429580245, gamma=0.0870602087830485, kernel=rbf ......\n",
      "[CV]  C=1.2058449429580245, gamma=0.0870602087830485, kernel=rbf, total= 5.0min\n",
      "[CV] C=9.324426408004218, gamma=0.0026587543983272693, kernel=rbf ....\n",
      "[CV]  C=9.324426408004218, gamma=0.0026587543983272693, kernel=rbf, total= 5.0min\n",
      "[CV] C=9.324426408004218, gamma=0.0026587543983272693, kernel=rbf ....\n",
      "[CV]  C=9.324426408004218, gamma=0.0026587543983272693, kernel=rbf, total= 5.1min\n",
      "[CV] C=9.324426408004218, gamma=0.0026587543983272693, kernel=rbf ....\n",
      "[CV]  C=9.324426408004218, gamma=0.0026587543983272693, kernel=rbf, total= 5.2min\n",
      "[CV] C=9.324426408004218, gamma=0.0026587543983272693, kernel=rbf ....\n",
      "[CV]  C=9.324426408004218, gamma=0.0026587543983272693, kernel=rbf, total= 5.0min\n",
      "[CV] C=9.324426408004218, gamma=0.0026587543983272693, kernel=rbf ....\n",
      "[CV]  C=9.324426408004218, gamma=0.0026587543983272693, kernel=rbf, total= 5.0min\n",
      "[CV] C=2.818249672071006, gamma=0.0023270677083837795, kernel=rbf ....\n",
      "[CV]  C=2.818249672071006, gamma=0.0023270677083837795, kernel=rbf, total= 4.9min\n",
      "[CV] C=2.818249672071006, gamma=0.0023270677083837795, kernel=rbf ....\n",
      "[CV]  C=2.818249672071006, gamma=0.0023270677083837795, kernel=rbf, total= 5.0min\n",
      "[CV] C=2.818249672071006, gamma=0.0023270677083837795, kernel=rbf ....\n",
      "[CV]  C=2.818249672071006, gamma=0.0023270677083837795, kernel=rbf, total= 5.0min\n",
      "[CV] C=2.818249672071006, gamma=0.0023270677083837795, kernel=rbf ....\n",
      "[CV]  C=2.818249672071006, gamma=0.0023270677083837795, kernel=rbf, total= 4.9min\n",
      "[CV] C=2.818249672071006, gamma=0.0023270677083837795, kernel=rbf ....\n",
      "[CV]  C=2.818249672071006, gamma=0.0023270677083837795, kernel=rbf, total= 5.0min\n",
      "[CV] C=4.042422429595377, gamma=0.011207606211860567, kernel=rbf .....\n",
      "[CV]  C=4.042422429595377, gamma=0.011207606211860567, kernel=rbf, total= 5.0min\n",
      "[CV] C=4.042422429595377, gamma=0.011207606211860567, kernel=rbf .....\n",
      "[CV]  C=4.042422429595377, gamma=0.011207606211860567, kernel=rbf, total= 5.0min\n",
      "[CV] C=4.042422429595377, gamma=0.011207606211860567, kernel=rbf .....\n",
      "[CV]  C=4.042422429595377, gamma=0.011207606211860567, kernel=rbf, total= 5.0min\n",
      "[CV] C=4.042422429595377, gamma=0.011207606211860567, kernel=rbf .....\n",
      "[CV]  C=4.042422429595377, gamma=0.011207606211860567, kernel=rbf, total= 5.1min\n",
      "[CV] C=4.042422429595377, gamma=0.011207606211860567, kernel=rbf .....\n",
      "[CV]  C=4.042422429595377, gamma=0.011207606211860567, kernel=rbf, total= 5.0min\n",
      "[CV] C=5.319450186421157, gamma=0.003823475224675185, kernel=rbf .....\n",
      "[CV]  C=5.319450186421157, gamma=0.003823475224675185, kernel=rbf, total= 5.0min\n",
      "[CV] C=5.319450186421157, gamma=0.003823475224675185, kernel=rbf .....\n",
      "[CV]  C=5.319450186421157, gamma=0.003823475224675185, kernel=rbf, total= 4.9min\n",
      "[CV] C=5.319450186421157, gamma=0.003823475224675185, kernel=rbf .....\n",
      "[CV]  C=5.319450186421157, gamma=0.003823475224675185, kernel=rbf, total= 5.0min\n",
      "[CV] C=5.319450186421157, gamma=0.003823475224675185, kernel=rbf .....\n",
      "[CV]  C=5.319450186421157, gamma=0.003823475224675185, kernel=rbf, total= 5.0min\n",
      "[CV] C=5.319450186421157, gamma=0.003823475224675185, kernel=rbf .....\n",
      "[CV]  C=5.319450186421157, gamma=0.003823475224675185, kernel=rbf, total= 5.0min\n"
     ]
    },
    {
     "name": "stderr",
     "output_type": "stream",
     "text": [
      "[Parallel(n_jobs=1)]: Done  50 out of  50 | elapsed: 253.5min finished\n"
     ]
    },
    {
     "data": {
      "text/plain": [
       "SVC(C=2.560186404424365, break_ties=False, cache_size=200, class_weight=None,\n",
       "    coef0=0.0, decision_function_shape='ovr', degree=3,\n",
       "    gamma=0.002051110418843397, kernel='rbf', max_iter=-1, probability=False,\n",
       "    random_state=None, shrinking=True, tol=0.001, verbose=False)"
      ]
     },
     "execution_count": 42,
     "metadata": {
      "tags": []
     },
     "output_type": "execute_result"
    }
   ],
   "source": [
    "# Performing hyperparameter search ov SVM\n",
    "\n",
    "from sklearn.model_selection import RandomizedSearchCV\n",
    "from scipy.stats import reciprocal, uniform\n",
    "param_distributions = {\"gamma\": reciprocal(0.001, 0.1), \"C\": uniform(1, 10), \"kernel\":['rbf'] } \n",
    "rnd_search_cv = RandomizedSearchCV(SVC(), param_distributions, n_iter=10, verbose=2, cv=5, random_state=42)\n",
    "rnd_search_cv.fit(dataset, labels)\n",
    "\n",
    "rnd_search_cv.best_estimator_"
   ]
  },
  {
   "cell_type": "code",
   "execution_count": 62,
   "metadata": {
    "colab": {
     "base_uri": "https://localhost:8080/",
     "height": 89
    },
    "colab_type": "code",
    "id": "C3umqIqrcllz",
    "outputId": "1e35c4cd-c160-45a3-ec3d-eb9d0946e278"
   },
   "outputs": [
    {
     "data": {
      "text/plain": [
       "SVC(C=2.560186404424365, break_ties=False, cache_size=200, class_weight=None,\n",
       "    coef0=0.0, decision_function_shape='ovr', degree=3,\n",
       "    gamma=0.002051110418843397, kernel='rbf', max_iter=-1, probability=False,\n",
       "    random_state=None, shrinking=True, tol=0.001, verbose=False)"
      ]
     },
     "execution_count": 62,
     "metadata": {
      "tags": []
     },
     "output_type": "execute_result"
    }
   ],
   "source": [
    "# Training SVM\n",
    "\n",
    "# nClusters = 800\n",
    "# svm_c = 0.01\n",
    "# svm_gamma = 0.01\n",
    "# svm_kernal = 'linear'\n",
    "\n",
    "#model = svm.SVC()#C=svm_c, gamma = svm_gamma, kernel = 'linear')\n",
    "# model = svm.SVC(C=2.560186404424365, break_ties=False, cache_size=200, class_weight=None,\n",
    "#     coef0=0.0, decision_function_shape='ovr', degree=3,\n",
    "#     gamma=0.002051110418843397, kernel='rbf', max_iter=-1, probability=False,\n",
    "#     random_state=None, shrinking=True, tol=0.001, verbose=False)\n",
    "\n",
    "model = svm.SVC(C=2.560186404424365, break_ties=False, cache_size=200, class_weight=None,\n",
    "    coef0=0.0, decision_function_shape='ovr', degree=3,\n",
    "    gamma=0.002051110418843397, kernel='rbf', max_iter=-1, probability=False,\n",
    "    random_state=None, shrinking=True, tol=0.001, verbose=False)\n",
    "model.fit(dataset,labels)"
   ]
  },
  {
   "cell_type": "code",
   "execution_count": 63,
   "metadata": {
    "colab": {
     "base_uri": "https://localhost:8080/",
     "height": 323
    },
    "colab_type": "code",
    "id": "wP66P1_5PktN",
    "outputId": "40d0830d-298c-42b0-a2e7-6484bf87ab33"
   },
   "outputs": [
    {
     "name": "stdout",
     "output_type": "stream",
     "text": [
      "              precision    recall  f1-score   support\n",
      "\n",
      "           0       0.96      0.91      0.94      5285\n",
      "           1       0.98      1.00      0.99      4910\n",
      "           2       0.96      0.94      0.95      5140\n",
      "           3       0.97      0.99      0.98      4883\n",
      "           4       0.96      0.98      0.97      4880\n",
      "           5       0.98      1.00      0.99      4894\n",
      "           6       0.97      0.99      0.98      4964\n",
      "           7       0.98      1.00      0.99      4932\n",
      "           8       0.96      0.93      0.94      5211\n",
      "           9       0.98      1.00      0.99      4901\n",
      "\n",
      "    accuracy                           0.97     50000\n",
      "   macro avg       0.97      0.97      0.97     50000\n",
      "weighted avg       0.97      0.97      0.97     50000\n",
      "\n"
     ]
    }
   ],
   "source": [
    "# Simple SVC k = 64 pca = 128 l2 normalized hypertuned on 30k detection on 50000\n",
    "print(classification_report(model.predict(dataset),labels))"
   ]
  },
  {
   "cell_type": "code",
   "execution_count": 0,
   "metadata": {
    "colab": {
     "base_uri": "https://localhost:8080/",
     "height": 323
    },
    "colab_type": "code",
    "id": "CL-Ows4TobzF",
    "outputId": "6bb3d6ce-0136-4f82-dc99-afa1cb4dd54e"
   },
   "outputs": [
    {
     "name": "stdout",
     "output_type": "stream",
     "text": [
      "              precision    recall  f1-score   support\n",
      "\n",
      "           0       0.97      0.92      0.94      3155\n",
      "           1       0.98      1.00      0.99      2986\n",
      "           2       0.96      0.94      0.95      3070\n",
      "           3       0.98      0.99      0.98      2952\n",
      "           4       0.97      0.99      0.98      2946\n",
      "           5       0.98      1.00      0.99      2906\n",
      "           6       0.98      0.99      0.99      2965\n",
      "           7       0.99      1.00      0.99      3000\n",
      "           8       0.97      0.94      0.96      3062\n",
      "           9       0.99      1.00      0.99      2958\n",
      "\n",
      "    accuracy                           0.98     30000\n",
      "   macro avg       0.98      0.98      0.98     30000\n",
      "weighted avg       0.98      0.98      0.98     30000\n",
      "\n"
     ]
    }
   ],
   "source": [
    "# Simple SVC k = 64 pca = 128 l2 normalized hypertuned on 30000\n",
    "print(classification_report(model.predict(dataset),labels))"
   ]
  },
  {
   "cell_type": "code",
   "execution_count": 0,
   "metadata": {
    "colab": {
     "base_uri": "https://localhost:8080/",
     "height": 323
    },
    "colab_type": "code",
    "id": "yPGf6JixBSLL",
    "outputId": "490f2167-b8ec-4b1b-d813-7304f97853f6"
   },
   "outputs": [
    {
     "name": "stdout",
     "output_type": "stream",
     "text": [
      "              precision    recall  f1-score   support\n",
      "\n",
      "           0       0.98      0.93      0.95      1063\n",
      "           1       0.99      1.00      0.99       964\n",
      "           2       0.97      0.94      0.95      1065\n",
      "           3       0.98      1.00      0.99       993\n",
      "           4       0.96      0.99      0.98       975\n",
      "           5       0.99      1.00      0.99       925\n",
      "           6       0.98      1.00      0.99      1007\n",
      "           7       0.99      1.00      1.00       993\n",
      "           8       0.98      0.96      0.97      1044\n",
      "           9       0.99      1.00      0.99       971\n",
      "\n",
      "    accuracy                           0.98     10000\n",
      "   macro avg       0.98      0.98      0.98     10000\n",
      "weighted avg       0.98      0.98      0.98     10000\n",
      "\n"
     ]
    }
   ],
   "source": [
    "# Simple SVC k = 256 pca = 128 l2 normalized hypertuned\n",
    "print(classification_report(model.predict(dataset),labels))"
   ]
  },
  {
   "cell_type": "code",
   "execution_count": 0,
   "metadata": {
    "colab": {
     "base_uri": "https://localhost:8080/",
     "height": 323
    },
    "colab_type": "code",
    "id": "qm3grcHv1kuD",
    "outputId": "d6118ecd-953a-4704-aeab-19f7c36f2c3c"
   },
   "outputs": [
    {
     "name": "stdout",
     "output_type": "stream",
     "text": [
      "              precision    recall  f1-score   support\n",
      "\n",
      "           0       0.57      0.57      0.57      1000\n",
      "           1       0.69      0.76      0.72       883\n",
      "           2       0.62      0.44      0.52      1439\n",
      "           3       0.59      0.70      0.64       860\n",
      "           4       0.61      0.56      0.58      1086\n",
      "           5       0.62      0.80      0.70       723\n",
      "           6       0.63      0.69      0.66       937\n",
      "           7       0.69      0.83      0.75       827\n",
      "           8       0.65      0.50      0.57      1327\n",
      "           9       0.71      0.76      0.73       918\n",
      "\n",
      "    accuracy                           0.64     10000\n",
      "   macro avg       0.64      0.66      0.64     10000\n",
      "weighted avg       0.64      0.64      0.63     10000\n",
      "\n"
     ]
    }
   ],
   "source": [
    "# Simple SVC k = 256 pca = 128 l2 normalized\n",
    "print(classification_report(model.predict(dataset),labels))"
   ]
  },
  {
   "cell_type": "code",
   "execution_count": 0,
   "metadata": {
    "colab": {
     "base_uri": "https://localhost:8080/",
     "height": 323
    },
    "colab_type": "code",
    "id": "uFTy8bJltCzA",
    "outputId": "106ea37d-a32f-40e3-a807-6f51756f05ce"
   },
   "outputs": [
    {
     "name": "stdout",
     "output_type": "stream",
     "text": [
      "              precision    recall  f1-score   support\n",
      "\n",
      "           0       0.56      0.53      0.55      1066\n",
      "           1       0.67      0.74      0.70       887\n",
      "           2       0.57      0.41      0.48      1457\n",
      "           3       0.59      0.67      0.63       895\n",
      "           4       0.57      0.58      0.57       976\n",
      "           5       0.61      0.78      0.68       728\n",
      "           6       0.59      0.65      0.62       933\n",
      "           7       0.65      0.80      0.72       810\n",
      "           8       0.63      0.50      0.56      1304\n",
      "           9       0.70      0.72      0.71       944\n",
      "\n",
      "    accuracy                           0.61     10000\n",
      "   macro avg       0.61      0.64      0.62     10000\n",
      "weighted avg       0.61      0.61      0.61     10000\n",
      "\n"
     ]
    }
   ],
   "source": [
    "# Simple SVC k = 256 pca = 128\n",
    "print(classification_report(model.predict(dataset),labels))"
   ]
  },
  {
   "cell_type": "code",
   "execution_count": 0,
   "metadata": {
    "colab": {
     "base_uri": "https://localhost:8080/",
     "height": 323
    },
    "colab_type": "code",
    "id": "VQAjsLffcliX",
    "outputId": "fdc14a12-c156-4d7e-bb67-096e299f2639"
   },
   "outputs": [
    {
     "name": "stdout",
     "output_type": "stream",
     "text": [
      "              precision    recall  f1-score   support\n",
      "\n",
      "           0       0.57      0.55      0.56      1030\n",
      "           1       0.66      0.71      0.68       907\n",
      "           2       0.55      0.41      0.47      1388\n",
      "           3       0.56      0.65      0.60       875\n",
      "           4       0.57      0.51      0.54      1104\n",
      "           5       0.56      0.76      0.65       693\n",
      "           6       0.59      0.64      0.61       956\n",
      "           7       0.62      0.74      0.68       844\n",
      "           8       0.62      0.51      0.56      1250\n",
      "           9       0.66      0.68      0.67       953\n",
      "\n",
      "    accuracy                           0.60     10000\n",
      "   macro avg       0.60      0.62      0.60     10000\n",
      "weighted avg       0.60      0.60      0.59     10000\n",
      "\n"
     ]
    }
   ],
   "source": [
    "# Simple SVC k = 128 PCA =64\n",
    "print(classification_report(model.predict(dataset),labels))"
   ]
  },
  {
   "cell_type": "code",
   "execution_count": 0,
   "metadata": {
    "colab": {},
    "colab_type": "code",
    "id": "Uyxz_1HPclSx"
   },
   "outputs": [],
   "source": []
  },
  {
   "cell_type": "code",
   "execution_count": 64,
   "metadata": {
    "colab": {
     "base_uri": "https://localhost:8080/",
     "height": 161
    },
    "colab_type": "code",
    "id": "IklZfh7tc2VD",
    "outputId": "a095b778-6132-41aa-f491-e88cac45e5ea"
   },
   "outputs": [
    {
     "data": {
      "text/plain": [
       "OneVsRestClassifier(estimator=SVC(C=2.560186404424365, break_ties=False,\n",
       "                                  cache_size=200, class_weight=None, coef0=0.0,\n",
       "                                  decision_function_shape='ovr', degree=3,\n",
       "                                  gamma=0.002051110418843397, kernel='rbf',\n",
       "                                  max_iter=-1, probability=False,\n",
       "                                  random_state=None, shrinking=True, tol=0.001,\n",
       "                                  verbose=False),\n",
       "                    n_jobs=None)"
      ]
     },
     "execution_count": 64,
     "metadata": {
      "tags": []
     },
     "output_type": "execute_result"
    }
   ],
   "source": [
    "# Training OnevsRest Classifier\n",
    "\n",
    "from sklearn.multiclass import OneVsRestClassifier\n",
    "#m = OneVsRestClassifier(SVC())\n",
    "# m = OneVsRestClassifier(SVC(C=2.560186404424365, break_ties=False, cache_size=200, class_weight=None,\n",
    "#     coef0=0.0, decision_function_shape='ovr', degree=3,\n",
    "#     gamma=0.002051110418843397, kernel='rbf', max_iter=-1, probability=False,\n",
    "#     random_state=None, shrinking=True, tol=0.001, verbose=False))\n",
    "m = OneVsRestClassifier(SVC(C=2.560186404424365, break_ties=False, cache_size=200, class_weight=None,\n",
    "    coef0=0.0, decision_function_shape='ovr', degree=3,\n",
    "    gamma=0.002051110418843397, kernel='rbf', max_iter=-1, probability=False,\n",
    "    random_state=None, shrinking=True, tol=0.001, verbose=False))\n",
    "m.fit(dataset,labels)"
   ]
  },
  {
   "cell_type": "code",
   "execution_count": 65,
   "metadata": {
    "colab": {
     "base_uri": "https://localhost:8080/",
     "height": 323
    },
    "colab_type": "code",
    "id": "tP9uy7aQbBWH",
    "outputId": "cebf9925-ec7e-472f-faf7-cc8cd5194eed"
   },
   "outputs": [
    {
     "name": "stdout",
     "output_type": "stream",
     "text": [
      "              precision    recall  f1-score   support\n",
      "\n",
      "           0       0.97      0.96      0.96      5024\n",
      "           1       1.00      1.00      1.00      4965\n",
      "           2       0.97      0.96      0.97      5090\n",
      "           3       0.99      1.00      0.99      4939\n",
      "           4       0.98      0.99      0.99      4932\n",
      "           5       1.00      1.00      1.00      4960\n",
      "           6       0.99      0.99      0.99      4996\n",
      "           7       1.00      1.00      1.00      5017\n",
      "           8       0.98      0.96      0.97      5114\n",
      "           9       1.00      1.00      1.00      4963\n",
      "\n",
      "    accuracy                           0.99     50000\n",
      "   macro avg       0.99      0.99      0.99     50000\n",
      "weighted avg       0.99      0.99      0.99     50000\n",
      "\n"
     ]
    }
   ],
   "source": [
    "# onevsall  k= 64 PCA = 128 l2 normalized HYPERTUNED on 30000 trained on 50k\n",
    "print(classification_report(m.predict(dataset),labels))"
   ]
  },
  {
   "cell_type": "code",
   "execution_count": 0,
   "metadata": {
    "colab": {
     "base_uri": "https://localhost:8080/",
     "height": 323
    },
    "colab_type": "code",
    "id": "7zumNF-OswPZ",
    "outputId": "cbfd95a0-8a57-4795-c75e-6aaca5a201c9"
   },
   "outputs": [
    {
     "name": "stdout",
     "output_type": "stream",
     "text": [
      "              precision    recall  f1-score   support\n",
      "\n",
      "           0       0.98      0.95      0.97      3079\n",
      "           1       1.00      1.00      1.00      3015\n",
      "           2       0.97      0.98      0.98      2971\n",
      "           3       0.99      1.00      0.99      2984\n",
      "           4       0.98      0.99      0.99      2973\n",
      "           5       1.00      1.00      1.00      2945\n",
      "           6       0.99      1.00      0.99      2992\n",
      "           7       1.00      1.00      1.00      3039\n",
      "           8       0.98      0.97      0.97      3015\n",
      "           9       1.00      1.00      1.00      2987\n",
      "\n",
      "    accuracy                           0.99     30000\n",
      "   macro avg       0.99      0.99      0.99     30000\n",
      "weighted avg       0.99      0.99      0.99     30000\n",
      "\n"
     ]
    }
   ],
   "source": [
    "# onevsall  k= 64 PCA = 128 l2 normalized HYPERTUNED on 30000\n",
    "print(classification_report(m.predict(dataset),labels))"
   ]
  },
  {
   "cell_type": "code",
   "execution_count": 0,
   "metadata": {
    "colab": {
     "base_uri": "https://localhost:8080/",
     "height": 323
    },
    "colab_type": "code",
    "id": "dYR3Q6lMBuiR",
    "outputId": "4b5787c3-59dd-4a51-9a40-6a16409034a1"
   },
   "outputs": [
    {
     "name": "stdout",
     "output_type": "stream",
     "text": [
      "              precision    recall  f1-score   support\n",
      "\n",
      "           0       0.99      0.96      0.98      1035\n",
      "           1       1.00      1.00      1.00       972\n",
      "           2       0.98      0.99      0.98      1023\n",
      "           3       1.00      1.00      1.00      1013\n",
      "           4       0.99      0.99      0.99       990\n",
      "           5       1.00      1.00      1.00       934\n",
      "           6       0.99      1.00      1.00      1025\n",
      "           7       1.00      1.00      1.00       999\n",
      "           8       0.99      0.99      0.99      1029\n",
      "           9       1.00      1.00      1.00       980\n",
      "\n",
      "    accuracy                           0.99     10000\n",
      "   macro avg       0.99      0.99      0.99     10000\n",
      "weighted avg       0.99      0.99      0.99     10000\n",
      "\n"
     ]
    }
   ],
   "source": [
    "# onevsall  k= 256 PCA = 128 l2 normalized HYPERTUNED\n",
    "print(classification_report(m.predict(dataset),labels))"
   ]
  },
  {
   "cell_type": "code",
   "execution_count": 0,
   "metadata": {
    "colab": {
     "base_uri": "https://localhost:8080/",
     "height": 323
    },
    "colab_type": "code",
    "id": "gEDKGhFT2qK5",
    "outputId": "2e340d5d-84ed-4912-caf3-43344c6f8480"
   },
   "outputs": [
    {
     "name": "stdout",
     "output_type": "stream",
     "text": [
      "              precision    recall  f1-score   support\n",
      "\n",
      "           0       0.89      0.85      0.87      1051\n",
      "           1       0.95      0.97      0.96       956\n",
      "           2       0.90      0.89      0.89      1043\n",
      "           3       0.94      0.97      0.96       986\n",
      "           4       0.92      0.93      0.93       990\n",
      "           5       0.95      0.97      0.96       918\n",
      "           6       0.94      0.97      0.96       997\n",
      "           7       0.95      0.98      0.97       974\n",
      "           8       0.93      0.84      0.89      1134\n",
      "           9       0.94      0.97      0.96       951\n",
      "\n",
      "    accuracy                           0.93     10000\n",
      "   macro avg       0.93      0.94      0.93     10000\n",
      "weighted avg       0.93      0.93      0.93     10000\n",
      "\n"
     ]
    }
   ],
   "source": [
    "# onevsall  k= 256 PCA = 128 l2 normalized\n",
    "print(classification_report(m.predict(dataset),labels))"
   ]
  },
  {
   "cell_type": "code",
   "execution_count": 0,
   "metadata": {
    "colab": {
     "base_uri": "https://localhost:8080/",
     "height": 323
    },
    "colab_type": "code",
    "id": "KL5F5TFnt6nh",
    "outputId": "7f5af509-2a13-427e-d035-4f5f70f809ea"
   },
   "outputs": [
    {
     "name": "stdout",
     "output_type": "stream",
     "text": [
      "              precision    recall  f1-score   support\n",
      "\n",
      "           0       0.88      0.83      0.85      1057\n",
      "           1       0.93      0.95      0.94       952\n",
      "           2       0.87      0.87      0.87      1039\n",
      "           3       0.92      0.96      0.94       974\n",
      "           4       0.90      0.90      0.90       997\n",
      "           5       0.94      0.97      0.96       907\n",
      "           6       0.92      0.94      0.93      1012\n",
      "           7       0.93      0.96      0.95       974\n",
      "           8       0.92      0.83      0.87      1133\n",
      "           9       0.94      0.96      0.95       955\n",
      "\n",
      "    accuracy                           0.92     10000\n",
      "   macro avg       0.92      0.92      0.92     10000\n",
      "weighted avg       0.92      0.92      0.91     10000\n",
      "\n"
     ]
    }
   ],
   "source": [
    "# onevsall  k= 256 PCA = 128\n",
    "print(classification_report(m.predict(dataset),labels))"
   ]
  },
  {
   "cell_type": "code",
   "execution_count": 0,
   "metadata": {
    "colab": {
     "base_uri": "https://localhost:8080/",
     "height": 323
    },
    "colab_type": "code",
    "id": "c87YU4Kfc7eD",
    "outputId": "567cdf2d-ffdc-44ce-8e17-7165bd1c43fe"
   },
   "outputs": [
    {
     "name": "stdout",
     "output_type": "stream",
     "text": [
      "              precision    recall  f1-score   support\n",
      "\n",
      "           0       0.85      0.80      0.83      1063\n",
      "           1       0.92      0.94      0.93       954\n",
      "           2       0.84      0.82      0.83      1056\n",
      "           3       0.91      0.95      0.93       973\n",
      "           4       0.88      0.89      0.88       989\n",
      "           5       0.91      0.97      0.94       882\n",
      "           6       0.91      0.91      0.91      1029\n",
      "           7       0.92      0.94      0.93       982\n",
      "           8       0.89      0.81      0.85      1126\n",
      "           9       0.92      0.95      0.93       946\n",
      "\n",
      "    accuracy                           0.89     10000\n",
      "   macro avg       0.89      0.90      0.90     10000\n",
      "weighted avg       0.89      0.89      0.89     10000\n",
      "\n"
     ]
    }
   ],
   "source": [
    "# onevsall  k= 128\n",
    "print(classification_report(m.predict(dataset),labels))"
   ]
  },
  {
   "cell_type": "markdown",
   "metadata": {
    "colab_type": "text",
    "id": "bI-OuHfidMlY"
   },
   "source": [
    "## **Validation & Testing**"
   ]
  },
  {
   "cell_type": "code",
   "execution_count": 0,
   "metadata": {
    "colab": {},
    "colab_type": "code",
    "id": "IIWbFzb2dIQe"
   },
   "outputs": [],
   "source": [
    "# Unloading test batch\n",
    "test_images = []\n",
    "test_labels = []\n",
    "no_of_batches = 1\n",
    "path = 'cifar-10-batches-py/data_batch_5'\n",
    "test_batch_images, test_batch_labels = unpickle_batch(path)\n",
    "for each in test_batch_images:\n",
    "    test_images.append(each)\n",
    "for each in test_batch_labels:\n",
    "    test_labels.append(each)"
   ]
  },
  {
   "cell_type": "code",
   "execution_count": 0,
   "metadata": {
    "colab": {},
    "colab_type": "code",
    "id": "7_MZttBvdIKO"
   },
   "outputs": [],
   "source": [
    "# Converting all to gray\n",
    "for i in range(len(test_images)):\n",
    "    test_images[i] = gray(test_images[i])"
   ]
  },
  {
   "cell_type": "code",
   "execution_count": 69,
   "metadata": {
    "colab": {
     "base_uri": "https://localhost:8080/",
     "height": 35
    },
    "colab_type": "code",
    "id": "m5ijBGcad48y",
    "outputId": "549767b6-3b46-4218-df2c-0adf025c5f83"
   },
   "outputs": [
    {
     "data": {
      "text/plain": [
       "10000"
      ]
     },
     "execution_count": 69,
     "metadata": {
      "tags": []
     },
     "output_type": "execute_result"
    }
   ],
   "source": [
    "len(test_images)\n",
    "len(test_labels)"
   ]
  },
  {
   "cell_type": "code",
   "execution_count": 0,
   "metadata": {
    "colab": {},
    "colab_type": "code",
    "id": "ZYwJ0Tu2dIFO"
   },
   "outputs": [],
   "source": [
    "def classify(img):\n",
    "    kp,des = getFeatures(img)\n",
    "    if des is None:\n",
    "        return [0]\n",
    "    else :\n",
    "        deslist=[des]\n",
    "        #print(len(deslist))\n",
    "        VLAD = genVLAD(np.array(deslist),kmeans)\n",
    "        #print(len(VLAD))\n",
    "        flatVec = [ele for li_1d in VLAD[0] for ele in li_1d]\n",
    "        VecList = [flatVec]\n",
    "        #print(len(flat222))\n",
    "        Vec = np.asarray(VecList)\n",
    "        #print(Vec.shape)\n",
    "        word_strength = scale.transform(Vec)\n",
    "        #print(word_strength.shape)\n",
    "        word_strength = pca.transform(word_strength)\n",
    "        prediction = model.predict(word_strength)\n",
    "        return prediction"
   ]
  },
  {
   "cell_type": "code",
   "execution_count": 0,
   "metadata": {
    "colab": {},
    "colab_type": "code",
    "id": "ioTe1o9QdHry"
   },
   "outputs": [],
   "source": [
    "# Classfying each Image\n",
    "count = 1\n",
    "prediction = []\n",
    "for each in test_images:\n",
    "    prediction.append(classify(each))\n",
    "    #print(count)\n",
    "    #count= count+1\n",
    "    \n",
    "    "
   ]
  },
  {
   "cell_type": "code",
   "execution_count": 0,
   "metadata": {
    "colab": {},
    "colab_type": "code",
    "id": "yxhaIlVueFnd"
   },
   "outputs": [],
   "source": [
    "# Validation "
   ]
  },
  {
   "cell_type": "code",
   "execution_count": 0,
   "metadata": {
    "colab": {
     "base_uri": "https://localhost:8080/",
     "height": 323
    },
    "colab_type": "code",
    "id": "uMLOCSl2dq5y",
    "outputId": "0982fa5a-6fe4-4322-f9e9-4082111c4542"
   },
   "outputs": [
    {
     "name": "stdout",
     "output_type": "stream",
     "text": [
      "              precision    recall  f1-score   support\n",
      "\n",
      "           0       0.34      0.43      0.38      1000\n",
      "           1       0.34      0.31      0.33      1000\n",
      "           2       0.19      0.16      0.17      1000\n",
      "           3       0.17      0.14      0.15      1000\n",
      "           4       0.16      0.15      0.16      1000\n",
      "           5       0.30      0.21      0.25      1000\n",
      "           6       0.23      0.34      0.28      1000\n",
      "           7       0.31      0.27      0.29      1000\n",
      "           8       0.31      0.39      0.35      1000\n",
      "           9       0.30      0.26      0.28      1000\n",
      "\n",
      "    accuracy                           0.27     10000\n",
      "   macro avg       0.27      0.27      0.26     10000\n",
      "weighted avg       0.27      0.27      0.26     10000\n",
      "\n"
     ]
    }
   ],
   "source": [
    "# With 128 words and one vs all\n",
    "print(classification_report(test_labels,np.array(prediction)))"
   ]
  },
  {
   "cell_type": "code",
   "execution_count": 0,
   "metadata": {
    "colab": {
     "base_uri": "https://localhost:8080/",
     "height": 323
    },
    "colab_type": "code",
    "id": "Kc_oXKf-vChX",
    "outputId": "863b724b-a0d3-4288-850a-4325f6979de6"
   },
   "outputs": [
    {
     "name": "stdout",
     "output_type": "stream",
     "text": [
      "              precision    recall  f1-score   support\n",
      "\n",
      "           0       0.34      0.45      0.39      1000\n",
      "           1       0.37      0.34      0.36      1000\n",
      "           2       0.19      0.19      0.19      1000\n",
      "           3       0.17      0.13      0.15      1000\n",
      "           4       0.15      0.15      0.15      1000\n",
      "           5       0.28      0.20      0.23      1000\n",
      "           6       0.20      0.28      0.23      1000\n",
      "           7       0.32      0.26      0.28      1000\n",
      "           8       0.31      0.38      0.34      1000\n",
      "           9       0.35      0.29      0.32      1000\n",
      "\n",
      "    accuracy                           0.27     10000\n",
      "   macro avg       0.27      0.27      0.26     10000\n",
      "weighted avg       0.27      0.27      0.26     10000\n",
      "\n"
     ]
    }
   ],
   "source": [
    "# With 256 words and one vs all pca = 128\n",
    "print(classification_report(test_labels,np.array(prediction)))"
   ]
  },
  {
   "cell_type": "code",
   "execution_count": 0,
   "metadata": {
    "colab": {
     "base_uri": "https://localhost:8080/",
     "height": 323
    },
    "colab_type": "code",
    "id": "-mHP0NJC4Z3a",
    "outputId": "6099527e-a4f3-46e4-d8d9-e22c3713bc70"
   },
   "outputs": [
    {
     "name": "stdout",
     "output_type": "stream",
     "text": [
      "              precision    recall  f1-score   support\n",
      "\n",
      "           0       0.33      0.46      0.38      1000\n",
      "           1       0.39      0.37      0.38      1000\n",
      "           2       0.19      0.19      0.19      1000\n",
      "           3       0.18      0.14      0.15      1000\n",
      "           4       0.18      0.18      0.18      1000\n",
      "           5       0.28      0.19      0.23      1000\n",
      "           6       0.22      0.30      0.25      1000\n",
      "           7       0.34      0.25      0.29      1000\n",
      "           8       0.31      0.42      0.36      1000\n",
      "           9       0.36      0.28      0.31      1000\n",
      "\n",
      "    accuracy                           0.28     10000\n",
      "   macro avg       0.28      0.28      0.27     10000\n",
      "weighted avg       0.28      0.28      0.27     10000\n",
      "\n"
     ]
    }
   ],
   "source": [
    "# With 256 words and one vs all pca = 128 with l2 normalization\n",
    "print(classification_report(test_labels,np.array(prediction)))"
   ]
  },
  {
   "cell_type": "code",
   "execution_count": 0,
   "metadata": {
    "colab": {
     "base_uri": "https://localhost:8080/",
     "height": 323
    },
    "colab_type": "code",
    "id": "MYwgjmgKEsYK",
    "outputId": "ba85745d-1252-46a4-a983-13516a0574c1"
   },
   "outputs": [
    {
     "name": "stdout",
     "output_type": "stream",
     "text": [
      "              precision    recall  f1-score   support\n",
      "\n",
      "           0       0.32      0.47      0.38      1000\n",
      "           1       0.39      0.26      0.31      1000\n",
      "           2       0.17      0.25      0.21      1000\n",
      "           3       0.19      0.13      0.15      1000\n",
      "           4       0.18      0.21      0.20      1000\n",
      "           5       0.30      0.14      0.19      1000\n",
      "           6       0.21      0.27      0.24      1000\n",
      "           7       0.34      0.20      0.25      1000\n",
      "           8       0.28      0.47      0.35      1000\n",
      "           9       0.36      0.19      0.25      1000\n",
      "\n",
      "    accuracy                           0.26     10000\n",
      "   macro avg       0.27      0.26      0.25     10000\n",
      "weighted avg       0.27      0.26      0.25     10000\n",
      "\n"
     ]
    }
   ],
   "source": [
    "# With 256 words and one vs all pca = 128 with l2 normalization Hypertuned\n",
    "print(classification_report(test_labels,np.array(prediction)))"
   ]
  },
  {
   "cell_type": "code",
   "execution_count": 0,
   "metadata": {
    "colab": {
     "base_uri": "https://localhost:8080/",
     "height": 323
    },
    "colab_type": "code",
    "id": "njk4YW0FPJwO",
    "outputId": "ece261aa-d1b9-4c9c-eb85-dcf03bff76e6"
   },
   "outputs": [
    {
     "name": "stdout",
     "output_type": "stream",
     "text": [
      "              precision    recall  f1-score   support\n",
      "\n",
      "           0       0.41      0.45      0.43      1000\n",
      "           1       0.39      0.43      0.41      1000\n",
      "           2       0.22      0.20      0.21      1000\n",
      "           3       0.21      0.16      0.18      1000\n",
      "           4       0.20      0.19      0.19      1000\n",
      "           5       0.30      0.28      0.29      1000\n",
      "           6       0.30      0.36      0.33      1000\n",
      "           7       0.34      0.35      0.35      1000\n",
      "           8       0.37      0.43      0.39      1000\n",
      "           9       0.35      0.33      0.34      1000\n",
      "\n",
      "    accuracy                           0.32     10000\n",
      "   macro avg       0.31      0.32      0.31     10000\n",
      "weighted avg       0.31      0.32      0.31     10000\n",
      "\n"
     ]
    }
   ],
   "source": [
    "# With 64 words and one vs all pca = 128 with l2 normalization Hypertuned on 30000\n",
    "print(classification_report(test_labels,np.array(prediction)))"
   ]
  },
  {
   "cell_type": "code",
   "execution_count": 0,
   "metadata": {
    "colab": {
     "base_uri": "https://localhost:8080/",
     "height": 323
    },
    "colab_type": "code",
    "id": "Jnz7i-xrdqlW",
    "outputId": "a8706128-1b58-43f4-81b9-dfdb3c2034c0"
   },
   "outputs": [
    {
     "name": "stdout",
     "output_type": "stream",
     "text": [
      "              precision    recall  f1-score   support\n",
      "\n",
      "           0       0.35      0.40      0.37      1000\n",
      "           1       0.39      0.23      0.29      1000\n",
      "           2       0.19      0.33      0.24      1000\n",
      "           3       0.23      0.15      0.18      1000\n",
      "           4       0.16      0.26      0.20      1000\n",
      "           5       0.39      0.16      0.23      1000\n",
      "           6       0.24      0.29      0.26      1000\n",
      "           7       0.40      0.21      0.28      1000\n",
      "           8       0.32      0.45      0.37      1000\n",
      "           9       0.35      0.25      0.30      1000\n",
      "\n",
      "    accuracy                           0.27     10000\n",
      "   macro avg       0.30      0.27      0.27     10000\n",
      "weighted avg       0.30      0.27      0.27     10000\n",
      "\n"
     ]
    }
   ],
   "source": [
    "# With 128 words and svc\n",
    "print(classification_report(test_labels,np.array(prediction)))"
   ]
  },
  {
   "cell_type": "code",
   "execution_count": 0,
   "metadata": {
    "colab": {
     "base_uri": "https://localhost:8080/",
     "height": 323
    },
    "colab_type": "code",
    "id": "GjxXnVXdvEcn",
    "outputId": "a3c5250c-b15c-4d17-8c05-900dcf1d00fb"
   },
   "outputs": [
    {
     "name": "stdout",
     "output_type": "stream",
     "text": [
      "              precision    recall  f1-score   support\n",
      "\n",
      "           0       0.32      0.41      0.36      1000\n",
      "           1       0.45      0.22      0.29      1000\n",
      "           2       0.16      0.36      0.22      1000\n",
      "           3       0.21      0.10      0.14      1000\n",
      "           4       0.16      0.25      0.20      1000\n",
      "           5       0.39      0.12      0.18      1000\n",
      "           6       0.22      0.25      0.23      1000\n",
      "           7       0.44      0.14      0.22      1000\n",
      "           8       0.27      0.45      0.34      1000\n",
      "           9       0.38      0.23      0.28      1000\n",
      "\n",
      "    accuracy                           0.25     10000\n",
      "   macro avg       0.30      0.25      0.25     10000\n",
      "weighted avg       0.30      0.25      0.25     10000\n",
      "\n"
     ]
    }
   ],
   "source": [
    "# With 256 words and svc PCA = 128\n",
    "print(classification_report(test_labels,np.array(prediction)))"
   ]
  },
  {
   "cell_type": "code",
   "execution_count": 0,
   "metadata": {
    "colab": {
     "base_uri": "https://localhost:8080/",
     "height": 323
    },
    "colab_type": "code",
    "id": "o9yFW6zGNfC9",
    "outputId": "2eb1e6f5-ce81-4e45-e2f6-e123fb3bcf9d"
   },
   "outputs": [
    {
     "name": "stdout",
     "output_type": "stream",
     "text": [
      "              precision    recall  f1-score   support\n",
      "\n",
      "           0       0.42      0.44      0.43      1000\n",
      "           1       0.42      0.41      0.41      1000\n",
      "           2       0.23      0.21      0.22      1000\n",
      "           3       0.23      0.18      0.20      1000\n",
      "           4       0.24      0.23      0.24      1000\n",
      "           5       0.30      0.30      0.30      1000\n",
      "           6       0.32      0.34      0.33      1000\n",
      "           7       0.31      0.38      0.34      1000\n",
      "           8       0.41      0.39      0.40      1000\n",
      "           9       0.35      0.37      0.36      1000\n",
      "\n",
      "    accuracy                           0.33     10000\n",
      "   macro avg       0.32      0.33      0.32     10000\n",
      "weighted avg       0.32      0.33      0.32     10000\n",
      "\n"
     ]
    }
   ],
   "source": [
    "# With 64 words and svc pca = 128 with l2 normalization Hypertuned on 30000\n",
    "print(classification_report(test_labels,np.array(prediction)))"
   ]
  },
  {
   "cell_type": "markdown",
   "metadata": {},
   "source": [
    "## Testing "
   ]
  },
  {
   "cell_type": "code",
   "execution_count": 72,
   "metadata": {
    "colab": {
     "base_uri": "https://localhost:8080/",
     "height": 323
    },
    "colab_type": "code",
    "id": "Pgkakv1YeKr6",
    "outputId": "8ea5a053-13ce-447c-afa8-824cc07349f4"
   },
   "outputs": [
    {
     "name": "stdout",
     "output_type": "stream",
     "text": [
      "              precision    recall  f1-score   support\n",
      "\n",
      "           0       0.42      0.45      0.43      1014\n",
      "           1       0.41      0.44      0.42      1014\n",
      "           2       0.23      0.21      0.22       952\n",
      "           3       0.23      0.15      0.19      1016\n",
      "           4       0.24      0.23      0.24       997\n",
      "           5       0.31      0.28      0.29      1025\n",
      "           6       0.28      0.33      0.30       980\n",
      "           7       0.36      0.39      0.38       977\n",
      "           8       0.39      0.45      0.42      1003\n",
      "           9       0.35      0.36      0.35      1022\n",
      "\n",
      "    accuracy                           0.33     10000\n",
      "   macro avg       0.32      0.33      0.32     10000\n",
      "weighted avg       0.32      0.33      0.32     10000\n",
      "\n"
     ]
    }
   ],
   "source": [
    "#Final Accuracy on One VS All\n",
    "\n",
    "# With 64 words and one vs all pca = 128 with l2 normalization Hypertuned on 30k trained on 50k\n",
    "print(classification_report(test_labels,np.array(prediction)))"
   ]
  },
  {
   "cell_type": "code",
   "execution_count": 77,
   "metadata": {
    "colab": {
     "base_uri": "https://localhost:8080/",
     "height": 323
    },
    "colab_type": "code",
    "id": "OKBFjmPbNLn4",
    "outputId": "0e6a6cf2-bc3a-4049-f795-fda7b11d2ba8"
   },
   "outputs": [
    {
     "name": "stdout",
     "output_type": "stream",
     "text": [
      "              precision    recall  f1-score   support\n",
      "\n",
      "           0       0.43      0.44      0.44      1014\n",
      "           1       0.42      0.44      0.43      1014\n",
      "           2       0.25      0.24      0.25       952\n",
      "           3       0.24      0.17      0.20      1016\n",
      "           4       0.24      0.23      0.24       997\n",
      "           5       0.30      0.31      0.31      1025\n",
      "           6       0.32      0.33      0.33       980\n",
      "           7       0.35      0.42      0.38       977\n",
      "           8       0.44      0.43      0.43      1003\n",
      "           9       0.35      0.40      0.37      1022\n",
      "\n",
      "    accuracy                           0.34     10000\n",
      "   macro avg       0.34      0.34      0.34     10000\n",
      "weighted avg       0.34      0.34      0.34     10000\n",
      "\n"
     ]
    }
   ],
   "source": [
    "# Final Accuracy on Test Set\n",
    "\n",
    "# With 64 words and svc pca = 128 with l2 normalization Hypertuned on 50000\n",
    "print(classification_report(test_labels,np.array(prediction)))"
   ]
  },
  {
   "cell_type": "code",
   "execution_count": 0,
   "metadata": {
    "colab": {},
    "colab_type": "code",
    "id": "6TKm7PvSdqWQ"
   },
   "outputs": [],
   "source": [
    "import pickle\n",
    "outfile = open('cifar_vlad_svc_64_128_l2_hypertuned_50k','wb')\n",
    "pickle.dump(model,outfile)\n",
    "outfile.close()"
   ]
  },
  {
   "cell_type": "code",
   "execution_count": 0,
   "metadata": {
    "colab": {},
    "colab_type": "code",
    "id": "tjSEpIfYjz4R"
   },
   "outputs": [],
   "source": [
    "outfile = open('cifar_vlad_1vsall_64_128_l2_hypertuned_50k','wb')\n",
    "pickle.dump(m,outfile)\n",
    "outfile.close()"
   ]
  },
  {
   "cell_type": "code",
   "execution_count": 0,
   "metadata": {
    "colab": {},
    "colab_type": "code",
    "id": "sEe2V1xk0RRi"
   },
   "outputs": [],
   "source": [
    "import pickle\n",
    "outfile = open('Xwith50k','wb')\n",
    "pickle.dump(X,outfile)\n",
    "outfile.close()"
   ]
  },
  {
   "cell_type": "code",
   "execution_count": 0,
   "metadata": {
    "colab": {},
    "colab_type": "code",
    "id": "vookk9iPFKRK"
   },
   "outputs": [],
   "source": [
    "\n",
    "outfile = open('desList','wb')\n",
    "pickle.dump(desc_list,outfile)\n",
    "outfile.close()"
   ]
  },
  {
   "cell_type": "code",
   "execution_count": 0,
   "metadata": {
    "colab": {},
    "colab_type": "code",
    "id": "9d9c7Mv8FjGr"
   },
   "outputs": [],
   "source": [
    "outfile = open('kmeans','wb')\n",
    "pickle.dump(kmeans,outfile)\n",
    "outfile.close()"
   ]
  },
  {
   "cell_type": "code",
   "execution_count": 0,
   "metadata": {
    "colab": {},
    "colab_type": "code",
    "id": "v0Wu1UmuMHtH"
   },
   "outputs": [],
   "source": []
  },
  {
   "cell_type": "code",
   "execution_count": 0,
   "metadata": {
    "colab": {},
    "colab_type": "code",
    "id": "ySos6YYlMYQE"
   },
   "outputs": [],
   "source": []
  }
 ],
 "metadata": {
  "accelerator": "GPU",
  "colab": {
   "collapsed_sections": [
    "bI-OuHfidMlY"
   ],
   "machine_shape": "hm",
   "name": "CIFAR-10.ipynb",
   "provenance": [],
   "toc_visible": true
  },
  "kernelspec": {
   "display_name": "Python 3",
   "language": "python",
   "name": "python3"
  },
  "language_info": {
   "codemirror_mode": {
    "name": "ipython",
    "version": 3
   },
   "file_extension": ".py",
   "mimetype": "text/x-python",
   "name": "python",
   "nbconvert_exporter": "python",
   "pygments_lexer": "ipython3",
   "version": "3.6.9"
  }
 },
 "nbformat": 4,
 "nbformat_minor": 1
}
